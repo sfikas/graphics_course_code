{
 "cells": [
  {
   "cell_type": "markdown",
   "metadata": {},
   "source": [
    "# Notebook για κώδικα Raytracing\n",
    "#### Αρχείο Jupyter notebook"
   ]
  },
  {
   "cell_type": "code",
   "execution_count": 1,
   "metadata": {},
   "outputs": [],
   "source": [
    "import numpy as np \n",
    "from PIL import Image\n",
    "from matplotlib import pyplot as plt\n",
    "\n",
    "# Global variables\n",
    "img = np.zeros([301, 301])\n",
    "\n",
    "\n",
    "# Δημιουργία συνάρτησης \"setpixel\"\n",
    "def setpixel(x, y, colour):\n",
    "    # Αυτή η συνάρτηση 'βάφει' το pixel στις συντεταγμένες (x,y) με το χρώμα 'colour'. \n",
    "    # To 'colour' πρέπει να είναι κάποιος ακέραιος στο 0..255 .\n",
    "    # img είναι ο πίνακας που αντιστοιχεί στην ψηφιογραφική εικόνα (raster image) που θέλουμε να επεξεργαστούμε.\n",
    "    imagedimensions = img.shape\n",
    "    x1 = x + imagedimensions[1] // 2\n",
    "    y1 = -y + imagedimensions[0] // 2\n",
    "    if(y1 < 0 or y1 >= imagedimensions[0]):\n",
    "        return(img)\n",
    "    if(x1 < 0 or x1 >= imagedimensions[1]):\n",
    "        return(img)\n",
    "    img[y1, x1] = colour\n",
    "    #return(img)"
   ]
  }
 ],
 "metadata": {
  "kernelspec": {
   "display_name": "Python 3.8.10 ('venv': venv)",
   "language": "python",
   "name": "python3"
  },
  "language_info": {
   "codemirror_mode": {
    "name": "ipython",
    "version": 3
   },
   "file_extension": ".py",
   "mimetype": "text/x-python",
   "name": "python",
   "nbconvert_exporter": "python",
   "pygments_lexer": "ipython3",
   "version": "3.8.10"
  },
  "orig_nbformat": 2,
  "vscode": {
   "interpreter": {
    "hash": "b50106813123ce5eb13dc15e32f7dc1a35600d3f051d10656141f0bb1e89ea72"
   }
  }
 },
 "nbformat": 4,
 "nbformat_minor": 2
}

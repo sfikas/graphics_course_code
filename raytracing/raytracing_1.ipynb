{
 "cells": [
  {
   "cell_type": "markdown",
   "metadata": {},
   "source": [
    "<a href=\"https://colab.research.google.com/github/sfikas/graphics_course_code/blob/main/raytracing/raytracing_1.ipynb\" target=\"_parent\"><img src=\"https://colab.research.google.com/assets/colab-badge.svg\" alt=\"Open In Colab\"/></a>"
   ]
  },
  {
   "cell_type": "markdown",
   "metadata": {},
   "source": [
    "# Ένας απλός Raytracer\n",
    "### Μέρος 1ο"
   ]
  },
  {
   "cell_type": "code",
   "execution_count": 2,
   "metadata": {},
   "outputs": [],
   "source": [
    "import numpy as np \n",
    "from matplotlib import pyplot as plt\n",
    "\n",
    "\n",
    "BACKGROUND_COLOR = (255, 255, 255)\n",
    "Ch = Cw = 500\n",
    "Vw = 1          \n",
    "Vh = 1\n",
    "d = 1           # Η απόσταση της κάμερας από το επίπεδο προβολής\n",
    "\n",
    "\n",
    "class Sphere():\n",
    "    def __init__(self, center, radius, color):\n",
    "        self.center = center\n",
    "        self.radius = radius\n",
    "        self.color = color\n",
    "    def __repr__(self) -> str:\n",
    "        return('A sphere centered at {}, with radius {} and color {}.'.format(self.center, self.radius, self.color))\n",
    "\n",
    "class Framebuffer():\n",
    "    def __init__(self, height=Ch, width=Cw):\n",
    "        self.data = np.zeros([height, width, 3])\n",
    "\n",
    "    def putPixel(self, x, y, color):\n",
    "        # Αυτή η συνάρτηση 'βάφει' το pixel στις συντεταγμένες (x,y) με το χρώμα 'color'. \n",
    "        # To 'color' πρέπει να είναι τριάδα τιμών, πχ: (255, 0, 0) για το κόκκινο, ή (127, 127, 127) για γκρί.\n",
    "        imagedimensions = self.data.shape\n",
    "        x1 = x + imagedimensions[1] // 2\n",
    "        y1 = -y + imagedimensions[0] // 2\n",
    "        if(y1 < 0 or y1 >= imagedimensions[0]):\n",
    "            return\n",
    "        if(x1 < 0 or x1 >= imagedimensions[1]):\n",
    "            return\n",
    "        self.data[y1, x1, :] = np.array(color)\n",
    "\n",
    "    def show(self):\n",
    "        plt.imshow(np.uint8(self.data))\n",
    "        plt.show()\n",
    "        \n",
    "\n",
    "\n",
    "# Τα αντικείμενα της σκηνής\n",
    "scene_spheres = [ \n",
    "    Sphere(center=(0, -1, 3), radius=1, color=(255, 0, 0)),\n",
    "    Sphere(center=(2,  0, 4), radius=1, color=(0, 0, 255)),\n",
    "    Sphere(center=(-2, 0, 4), radius=1, color=(0, 255, 0)),\n",
    "]\n",
    "\n",
    "\n",
    "def canvasToViewPort(x, y):\n",
    "    '''\n",
    "    Αυτή η συνάρτηση θα μετατρέψει τις συντεταγμένες οθόνης σε συντεταγμένες κόσμου (ΣΣΚ, WCS).\n",
    "    '''\n",
    "    return(x*Vw/Cw, y*Vh/Ch, d)\n",
    "\n",
    "def dot(a,b):\n",
    "    '''\n",
    "    Αυτή η συνάρτηση θα υπολογίσει το εσωτερικό γινόμενο των διανυσμάτων a,b.\n",
    "    '''\n",
    "    return(a[0]*b[0] + a[1]*b[1] + a[2]*b[2])\n",
    "\n",
    "\n",
    "def intersectRaySphere(O, D, sphere):\n",
    "    r = sphere.radius\n",
    "    CO = O - sphere.center\n",
    "    a = dot(D, D)\n",
    "    b = 2*dot(CO, D)\n",
    "    c = dot(CO, CO) - r*r\n",
    "\n",
    "    discriminant = b*b - 4*a*c\n",
    "    if discriminant < 0:\n",
    "        return(np.inf, np.inf)\n",
    "    \n",
    "    t1 = (-b + np.sqrt(discriminant)) / (2*a)\n",
    "    t2 = (-b - np.sqrt(discriminant)) / (2*a)\n",
    "    return t1, t2\n",
    "\n",
    "def traceRay(O, D, t_min, t_max):\n",
    "    closest_t = np.inf \n",
    "    closest_sphere = None\n",
    "    for sphere in scene_spheres:\n",
    "        t1, t2 = intersectRaySphere(O, D, sphere)\n",
    "        if t1 >= t_min and t1 <= t_max and t1 < closest_t:\n",
    "            closest_t = t1\n",
    "            closest_sphere = sphere\n",
    "        if t2 >= t_min and t2 <= t_max and t2 < closest_t: #Refactor ??\n",
    "            closest_t = t2\n",
    "            closest_sphere = sphere\n",
    "    if closest_sphere is None:\n",
    "        return(BACKGROUND_COLOR)\n",
    "    return closest_sphere.color        "
   ]
  },
  {
   "cell_type": "code",
   "execution_count": 4,
   "metadata": {},
   "outputs": [
    {
     "data": {
      "image/png": "[encoded data removed]",
      "text/plain": [
       "<Figure size 640x480 with 1 Axes>"
      ]
     },
     "metadata": {},
     "output_type": "display_data"
    }
   ],
   "source": [
    "##################################\n",
    "#\n",
    "#         RAYTRACER \n",
    "#\n",
    "##################################\n",
    "\n",
    "canvas = Framebuffer(height=Ch, width=Cw)\n",
    "O = np.array([0, 0, 0])\n",
    "for x in range(-Cw//2, Cw//2):\n",
    "    for y in range(-Ch//2, Ch//2):\n",
    "        D = canvasToViewPort(x, y)\n",
    "        color = traceRay(O, D, 1, np.inf)\n",
    "        canvas.putPixel(x, y, color)\n",
    "canvas.show()"
   ]
  }
 ],
 "metadata": {
  "kernelspec": {
   "display_name": "Python 3.8.10 ('venv': venv)",
   "language": "python",
   "name": "python3"
  },
  "language_info": {
   "codemirror_mode": {
    "name": "ipython",
    "version": 3
   },
   "file_extension": ".py",
   "mimetype": "text/x-python",
   "name": "python",
   "nbconvert_exporter": "python",
   "pygments_lexer": "ipython3",
   "version": "3.8.10"
  },
  "orig_nbformat": 2,
  "vscode": {
   "interpreter": {
    "hash": "b50106813123ce5eb13dc15e32f7dc1a35600d3f051d10656141f0bb1e89ea72"
   }
  }
 },
 "nbformat": 4,
 "nbformat_minor": 2
}
